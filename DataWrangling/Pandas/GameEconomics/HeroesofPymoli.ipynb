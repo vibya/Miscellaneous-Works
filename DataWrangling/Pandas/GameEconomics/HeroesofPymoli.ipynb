{
 "cells": [
  {
   "cell_type": "markdown",
   "metadata": {},
   "source": [
    "# Heroes Of Pymoli Data Analysis\n",
    "- A significant majority of the players are Male(81%).\n",
    "- Female players, on average, spend as much as Male players on in-game purchases\n",
    "- A major chunk of players fall between the age group of 15-30 with a significant portion of them between the ages 20-24, implying young adults are more inclined to spend more on in-game purchases\n",
    "- Since this data is only purchase data and not actual active player data, the above assumptions might be skewed towards the \"purchasing\" crowd than the non-purchasing crowd who might be enjoying the game without spending on in-game purchases"
   ]
  },
  {
   "cell_type": "code",
   "execution_count": 1,
   "metadata": {},
   "outputs": [],
   "source": [
    "import pandas as pd"
   ]
  },
  {
   "cell_type": "code",
   "execution_count": 2,
   "metadata": {},
   "outputs": [],
   "source": [
    "purchasefile = \"purchase_data.json\"\n",
    "purchase_df = pd.read_json(purchasefile)"
   ]
  },
  {
   "cell_type": "markdown",
   "metadata": {},
   "source": [
    "# Player Count"
   ]
  },
  {
   "cell_type": "code",
   "execution_count": 3,
   "metadata": {},
   "outputs": [
    {
     "data": {
      "text/html": [
       "<div>\n",
       "<style scoped>\n",
       "    .dataframe tbody tr th:only-of-type {\n",
       "        vertical-align: middle;\n",
       "    }\n",
       "\n",
       "    .dataframe tbody tr th {\n",
       "        vertical-align: top;\n",
       "    }\n",
       "\n",
       "    .dataframe thead th {\n",
       "        text-align: right;\n",
       "    }\n",
       "</style>\n",
       "<table border=\"1\" class=\"dataframe\">\n",
       "  <thead>\n",
       "    <tr style=\"text-align: right;\">\n",
       "      <th></th>\n",
       "      <th>Total Players</th>\n",
       "    </tr>\n",
       "  </thead>\n",
       "  <tbody>\n",
       "    <tr>\n",
       "      <th>0</th>\n",
       "      <td>573</td>\n",
       "    </tr>\n",
       "  </tbody>\n",
       "</table>\n",
       "</div>"
      ],
      "text/plain": [
       "   Total Players\n",
       "0            573"
      ]
     },
     "execution_count": 3,
     "metadata": {},
     "output_type": "execute_result"
    }
   ],
   "source": [
    "unique_users = purchase_df[\"SN\"].value_counts()\n",
    "totalplayers = pd.DataFrame({\"Total Players\": unique_users.count()},index = [0])\n",
    "totalplayers"
   ]
  },
  {
   "cell_type": "code",
   "execution_count": 4,
   "metadata": {},
   "outputs": [],
   "source": [
    "unique_items = purchase_df[\"Item ID\"].value_counts()"
   ]
  },
  {
   "cell_type": "code",
   "execution_count": 5,
   "metadata": {},
   "outputs": [],
   "source": [
    "purchase_analysis_total = pd.DataFrame ({\"Number of Unique Items\": unique_items.count(),\n",
    "                                  \"Average Price\": purchase_df[\"Price\"].mean(),\n",
    "                                  \"Number of Purchases\": purchase_df[\"Item ID\"].count(),\n",
    "                                  \"Total Revenue\": purchase_df[\"Price\"].sum()\n",
    "                                  },index = [0])"
   ]
  },
  {
   "cell_type": "code",
   "execution_count": 6,
   "metadata": {},
   "outputs": [],
   "source": [
    "purchase_analysis_total_reorg = purchase_analysis_total[[\"Number of Unique Items\",\"Average Price\",\"Number of Purchases\",\"Total Revenue\"]]\n",
    "purchase_analysis_total_reorg[\"Average Price\"] = purchase_analysis_total_reorg[\"Average Price\"].map(\"${:,.2f}\".format)\n",
    "purchase_analysis_total_reorg[\"Total Revenue\"] = purchase_analysis_total_reorg[\"Total Revenue\"].map(\"${:,.2f}\".format)"
   ]
  },
  {
   "cell_type": "markdown",
   "metadata": {},
   "source": [
    "# Purchasing Analysis (Total)"
   ]
  },
  {
   "cell_type": "code",
   "execution_count": 7,
   "metadata": {},
   "outputs": [
    {
     "data": {
      "text/html": [
       "<div>\n",
       "<style scoped>\n",
       "    .dataframe tbody tr th:only-of-type {\n",
       "        vertical-align: middle;\n",
       "    }\n",
       "\n",
       "    .dataframe tbody tr th {\n",
       "        vertical-align: top;\n",
       "    }\n",
       "\n",
       "    .dataframe thead th {\n",
       "        text-align: right;\n",
       "    }\n",
       "</style>\n",
       "<table border=\"1\" class=\"dataframe\">\n",
       "  <thead>\n",
       "    <tr style=\"text-align: right;\">\n",
       "      <th></th>\n",
       "      <th>Number of Unique Items</th>\n",
       "      <th>Average Price</th>\n",
       "      <th>Number of Purchases</th>\n",
       "      <th>Total Revenue</th>\n",
       "    </tr>\n",
       "  </thead>\n",
       "  <tbody>\n",
       "    <tr>\n",
       "      <th>0</th>\n",
       "      <td>183</td>\n",
       "      <td>$2.93</td>\n",
       "      <td>780</td>\n",
       "      <td>$2,286.33</td>\n",
       "    </tr>\n",
       "  </tbody>\n",
       "</table>\n",
       "</div>"
      ],
      "text/plain": [
       "   Number of Unique Items Average Price  Number of Purchases Total Revenue\n",
       "0                     183         $2.93                  780     $2,286.33"
      ]
     },
     "execution_count": 7,
     "metadata": {},
     "output_type": "execute_result"
    }
   ],
   "source": [
    "purchase_analysis_total_reorg"
   ]
  },
  {
   "cell_type": "code",
   "execution_count": 8,
   "metadata": {},
   "outputs": [],
   "source": [
    "female_df = purchase_df.loc[purchase_df[\"Gender\"] == \"Female\",:]\n",
    "uniquefemale = female_df[\"SN\"].value_counts()"
   ]
  },
  {
   "cell_type": "code",
   "execution_count": 9,
   "metadata": {},
   "outputs": [],
   "source": [
    "male_df = purchase_df.loc[purchase_df[\"Gender\"] == \"Male\",:]\n",
    "uniquemale = male_df[\"SN\"].value_counts()"
   ]
  },
  {
   "cell_type": "code",
   "execution_count": 10,
   "metadata": {},
   "outputs": [],
   "source": [
    "othergender_df = purchase_df.loc[(purchase_df[\"Gender\"] != \"Male\") & (purchase_df[\"Gender\"] != \"Female\"),:]\n",
    "uniqueother = othergender_df[\"SN\"].value_counts()"
   ]
  },
  {
   "cell_type": "code",
   "execution_count": 11,
   "metadata": {},
   "outputs": [],
   "source": [
    "gender_grp = purchase_df.groupby([\"Gender\"], as_index = False)\n",
    "genders =(gender_grp.mean())[\"Gender\"]"
   ]
  },
  {
   "cell_type": "code",
   "execution_count": 12,
   "metadata": {},
   "outputs": [],
   "source": [
    "gender_demo = pd.DataFrame({\n",
    "    \"Gender\": genders,\n",
    "    \"Total Count\": [uniquefemale.count(), uniquemale.count(), uniqueother.count()],\n",
    "    \"Percentage of Players\":[round((uniquefemale.count()/unique_users.count())*100,2),round((uniquemale.count()/unique_users.count())*100,2),round((uniqueother.count()/unique_users.count())*100,2)]\n",
    "    })"
   ]
  },
  {
   "cell_type": "code",
   "execution_count": 13,
   "metadata": {},
   "outputs": [],
   "source": [
    "gender_sorted = gender_demo.sort_values(\"Total Count\", ascending=False)\n",
    "gender_sorted = gender_sorted.set_index(\"Gender\")\n",
    "gender_sorted.index.name = None"
   ]
  },
  {
   "cell_type": "markdown",
   "metadata": {},
   "source": [
    "# Gender Demographics"
   ]
  },
  {
   "cell_type": "code",
   "execution_count": 14,
   "metadata": {},
   "outputs": [
    {
     "data": {
      "text/html": [
       "<div>\n",
       "<style scoped>\n",
       "    .dataframe tbody tr th:only-of-type {\n",
       "        vertical-align: middle;\n",
       "    }\n",
       "\n",
       "    .dataframe tbody tr th {\n",
       "        vertical-align: top;\n",
       "    }\n",
       "\n",
       "    .dataframe thead th {\n",
       "        text-align: right;\n",
       "    }\n",
       "</style>\n",
       "<table border=\"1\" class=\"dataframe\">\n",
       "  <thead>\n",
       "    <tr style=\"text-align: right;\">\n",
       "      <th></th>\n",
       "      <th>Percentage of Players</th>\n",
       "      <th>Total Count</th>\n",
       "    </tr>\n",
       "  </thead>\n",
       "  <tbody>\n",
       "    <tr>\n",
       "      <th>Male</th>\n",
       "      <td>81.15</td>\n",
       "      <td>465</td>\n",
       "    </tr>\n",
       "    <tr>\n",
       "      <th>Female</th>\n",
       "      <td>17.45</td>\n",
       "      <td>100</td>\n",
       "    </tr>\n",
       "    <tr>\n",
       "      <th>Other / Non-Disclosed</th>\n",
       "      <td>1.40</td>\n",
       "      <td>8</td>\n",
       "    </tr>\n",
       "  </tbody>\n",
       "</table>\n",
       "</div>"
      ],
      "text/plain": [
       "                       Percentage of Players  Total Count\n",
       "Male                                   81.15          465\n",
       "Female                                 17.45          100\n",
       "Other / Non-Disclosed                   1.40            8"
      ]
     },
     "execution_count": 14,
     "metadata": {},
     "output_type": "execute_result"
    }
   ],
   "source": [
    "gender_sorted"
   ]
  },
  {
   "cell_type": "code",
   "execution_count": 15,
   "metadata": {},
   "outputs": [],
   "source": [
    "purchase_analysis_gender = pd.DataFrame({\"Gender\": genders,\n",
    "                                        \"Purchase count\":(gender_grp.count())[\"Item ID\"],\n",
    "                                        \"Average Purchase Price\":(gender_grp.mean())[\"Price\"],\n",
    "                                        \"Total Purchase Value\":(gender_grp.sum())[\"Price\"],\n",
    "                                        \"Normalized Totals\":round((gender_grp.sum())[\"Price\"]/gender_demo[\"Total Count\"],2)\n",
    "                                        })"
   ]
  },
  {
   "cell_type": "code",
   "execution_count": 16,
   "metadata": {},
   "outputs": [],
   "source": [
    "purchase_analysis_gender_reorg = purchase_analysis_gender[[\"Gender\",\"Purchase count\",\"Average Purchase Price\",\"Total Purchase Value\",\"Normalized Totals\"]]\n",
    "purchase_analysis_gender_reorg[\"Normalized Totals\"] = purchase_analysis_gender_reorg[\"Normalized Totals\"].map(\"${:,.2f}\".format)\n",
    "purchase_analysis_gender_reorg[\"Total Purchase Value\"] = purchase_analysis_gender_reorg[\"Total Purchase Value\"].map(\"${:,.2f}\".format)\n",
    "purchase_analysis_gender_reorg[\"Average Purchase Price\"] = purchase_analysis_gender_reorg[\"Average Purchase Price\"].map(\"${:,.2f}\".format)"
   ]
  },
  {
   "cell_type": "markdown",
   "metadata": {},
   "source": [
    "# Purchasing Analysis (Gender)"
   ]
  },
  {
   "cell_type": "code",
   "execution_count": 17,
   "metadata": {},
   "outputs": [
    {
     "data": {
      "text/html": [
       "<div>\n",
       "<style scoped>\n",
       "    .dataframe tbody tr th:only-of-type {\n",
       "        vertical-align: middle;\n",
       "    }\n",
       "\n",
       "    .dataframe tbody tr th {\n",
       "        vertical-align: top;\n",
       "    }\n",
       "\n",
       "    .dataframe thead th {\n",
       "        text-align: right;\n",
       "    }\n",
       "</style>\n",
       "<table border=\"1\" class=\"dataframe\">\n",
       "  <thead>\n",
       "    <tr style=\"text-align: right;\">\n",
       "      <th></th>\n",
       "      <th>Purchase count</th>\n",
       "      <th>Average Purchase Price</th>\n",
       "      <th>Total Purchase Value</th>\n",
       "      <th>Normalized Totals</th>\n",
       "    </tr>\n",
       "    <tr>\n",
       "      <th>Gender</th>\n",
       "      <th></th>\n",
       "      <th></th>\n",
       "      <th></th>\n",
       "      <th></th>\n",
       "    </tr>\n",
       "  </thead>\n",
       "  <tbody>\n",
       "    <tr>\n",
       "      <th>Female</th>\n",
       "      <td>136</td>\n",
       "      <td>$2.82</td>\n",
       "      <td>$382.91</td>\n",
       "      <td>$3.83</td>\n",
       "    </tr>\n",
       "    <tr>\n",
       "      <th>Male</th>\n",
       "      <td>633</td>\n",
       "      <td>$2.95</td>\n",
       "      <td>$1,867.68</td>\n",
       "      <td>$4.02</td>\n",
       "    </tr>\n",
       "    <tr>\n",
       "      <th>Other / Non-Disclosed</th>\n",
       "      <td>11</td>\n",
       "      <td>$3.25</td>\n",
       "      <td>$35.74</td>\n",
       "      <td>$4.47</td>\n",
       "    </tr>\n",
       "  </tbody>\n",
       "</table>\n",
       "</div>"
      ],
      "text/plain": [
       "                       Purchase count Average Purchase Price  \\\n",
       "Gender                                                         \n",
       "Female                            136                  $2.82   \n",
       "Male                              633                  $2.95   \n",
       "Other / Non-Disclosed              11                  $3.25   \n",
       "\n",
       "                      Total Purchase Value Normalized Totals  \n",
       "Gender                                                        \n",
       "Female                             $382.91             $3.83  \n",
       "Male                             $1,867.68             $4.02  \n",
       "Other / Non-Disclosed               $35.74             $4.47  "
      ]
     },
     "execution_count": 17,
     "metadata": {},
     "output_type": "execute_result"
    }
   ],
   "source": [
    "purchase_analysis_gender_reorg.set_index(\"Gender\")"
   ]
  },
  {
   "cell_type": "code",
   "execution_count": 18,
   "metadata": {},
   "outputs": [],
   "source": [
    "bins = [5,9,14,19,24,29,34,39,50]\n",
    "\n",
    "# Create labels for these bins\n",
    "group_labels = [\"<10\", \"10-14\", \"15-19\", \"20-24\", \"25-29\", \"30-34\", \"35-39\", \"40+\"]\n",
    "\n",
    "Agedemo_series = pd.cut(purchase_df[\"Age\"], bins, labels=group_labels)"
   ]
  },
  {
   "cell_type": "code",
   "execution_count": 19,
   "metadata": {},
   "outputs": [],
   "source": [
    "purchase_df[\"AgeRange\"] = Agedemo_series\n",
    "purchase_df1 = purchase_df.drop_duplicates(['SN'], keep='first')\n",
    "\n",
    "#grouped using unique players\n",
    "Agedemo_grp = purchase_df1.groupby(\"AgeRange\",as_index=False)\n",
    "\n",
    "#grouped using total purchases which include multiple transactions by single player\n",
    "Agedemo_grp1 = purchase_df.groupby(\"AgeRange\",as_index=False)"
   ]
  },
  {
   "cell_type": "markdown",
   "metadata": {},
   "source": [
    "# Age Demographics"
   ]
  },
  {
   "cell_type": "code",
   "execution_count": 20,
   "metadata": {},
   "outputs": [
    {
     "data": {
      "text/html": [
       "<div>\n",
       "<style scoped>\n",
       "    .dataframe tbody tr th:only-of-type {\n",
       "        vertical-align: middle;\n",
       "    }\n",
       "\n",
       "    .dataframe tbody tr th {\n",
       "        vertical-align: top;\n",
       "    }\n",
       "\n",
       "    .dataframe thead th {\n",
       "        text-align: right;\n",
       "    }\n",
       "</style>\n",
       "<table border=\"1\" class=\"dataframe\">\n",
       "  <thead>\n",
       "    <tr style=\"text-align: right;\">\n",
       "      <th></th>\n",
       "      <th>Percentage of Players</th>\n",
       "      <th>Total Count</th>\n",
       "    </tr>\n",
       "    <tr>\n",
       "      <th></th>\n",
       "      <th></th>\n",
       "      <th></th>\n",
       "    </tr>\n",
       "  </thead>\n",
       "  <tbody>\n",
       "    <tr>\n",
       "      <th>&lt;10</th>\n",
       "      <td>3.32</td>\n",
       "      <td>19</td>\n",
       "    </tr>\n",
       "    <tr>\n",
       "      <th>10-14</th>\n",
       "      <td>4.01</td>\n",
       "      <td>23</td>\n",
       "    </tr>\n",
       "    <tr>\n",
       "      <th>15-19</th>\n",
       "      <td>17.45</td>\n",
       "      <td>100</td>\n",
       "    </tr>\n",
       "    <tr>\n",
       "      <th>20-24</th>\n",
       "      <td>45.20</td>\n",
       "      <td>259</td>\n",
       "    </tr>\n",
       "    <tr>\n",
       "      <th>25-29</th>\n",
       "      <td>15.18</td>\n",
       "      <td>87</td>\n",
       "    </tr>\n",
       "    <tr>\n",
       "      <th>30-34</th>\n",
       "      <td>8.20</td>\n",
       "      <td>47</td>\n",
       "    </tr>\n",
       "    <tr>\n",
       "      <th>35-39</th>\n",
       "      <td>4.71</td>\n",
       "      <td>27</td>\n",
       "    </tr>\n",
       "    <tr>\n",
       "      <th>40+</th>\n",
       "      <td>1.92</td>\n",
       "      <td>11</td>\n",
       "    </tr>\n",
       "  </tbody>\n",
       "</table>\n",
       "</div>"
      ],
      "text/plain": [
       "       Percentage of Players  Total Count\n",
       "                                         \n",
       "<10                     3.32           19\n",
       "10-14                   4.01           23\n",
       "15-19                  17.45          100\n",
       "20-24                  45.20          259\n",
       "25-29                  15.18           87\n",
       "30-34                   8.20           47\n",
       "35-39                   4.71           27\n",
       "40+                     1.92           11"
      ]
     },
     "execution_count": 20,
     "metadata": {},
     "output_type": "execute_result"
    }
   ],
   "source": [
    "age_demo = pd.DataFrame({\" \":(Agedemo_grp.count())[\"AgeRange\"],\n",
    "                        \"Percentage of Players\":round(((Agedemo_grp.count())[\"SN\"]/unique_users.count())*100,2),\n",
    "                        \"Total Count\":(Agedemo_grp.count())[\"SN\"]})\n",
    "age_demo.set_index(\" \")"
   ]
  },
  {
   "cell_type": "code",
   "execution_count": 21,
   "metadata": {},
   "outputs": [],
   "source": [
    "purchase_analysis_age = pd.DataFrame({\" \":(Agedemo_grp.count())[\"AgeRange\"],\n",
    "                          \"Purchase Count\":(Agedemo_grp1.count())[\"SN\"],\n",
    "                          \"Average Purchase Price\":round((Agedemo_grp1.mean())[\"Price\"],2),\n",
    "                          \"Total Purchase Value\":(Agedemo_grp1.sum())[\"Price\"],\n",
    "                          \"Normalized Totals\":round(((Agedemo_grp1.sum())[\"Price\"]/(Agedemo_grp.count())[\"SN\"]),2)\n",
    "                         })"
   ]
  },
  {
   "cell_type": "code",
   "execution_count": 22,
   "metadata": {},
   "outputs": [],
   "source": [
    "purchase_analysis_age_reorg = purchase_analysis_age[[\" \",\"Purchase Count\",\"Average Purchase Price\",\"Total Purchase Value\",\"Normalized Totals\"]].set_index(\" \")\n",
    "purchase_analysis_age_reorg[\"Average Purchase Price\"] = purchase_analysis_age_reorg[\"Average Purchase Price\"].map(\"${:,.2f}\".format)\n",
    "purchase_analysis_age_reorg[\"Total Purchase Value\"] = purchase_analysis_age_reorg[\"Total Purchase Value\"].map(\"${:,.2f}\".format)\n",
    "purchase_analysis_age_reorg[\"Normalized Totals\"] = purchase_analysis_age_reorg[\"Normalized Totals\"].map(\"${:,.2f}\".format)"
   ]
  },
  {
   "cell_type": "markdown",
   "metadata": {},
   "source": [
    "# Purchasing Analysis (Age)"
   ]
  },
  {
   "cell_type": "code",
   "execution_count": 23,
   "metadata": {},
   "outputs": [
    {
     "data": {
      "text/html": [
       "<div>\n",
       "<style scoped>\n",
       "    .dataframe tbody tr th:only-of-type {\n",
       "        vertical-align: middle;\n",
       "    }\n",
       "\n",
       "    .dataframe tbody tr th {\n",
       "        vertical-align: top;\n",
       "    }\n",
       "\n",
       "    .dataframe thead th {\n",
       "        text-align: right;\n",
       "    }\n",
       "</style>\n",
       "<table border=\"1\" class=\"dataframe\">\n",
       "  <thead>\n",
       "    <tr style=\"text-align: right;\">\n",
       "      <th></th>\n",
       "      <th>Purchase Count</th>\n",
       "      <th>Average Purchase Price</th>\n",
       "      <th>Total Purchase Value</th>\n",
       "      <th>Normalized Totals</th>\n",
       "    </tr>\n",
       "    <tr>\n",
       "      <th></th>\n",
       "      <th></th>\n",
       "      <th></th>\n",
       "      <th></th>\n",
       "      <th></th>\n",
       "    </tr>\n",
       "  </thead>\n",
       "  <tbody>\n",
       "    <tr>\n",
       "      <th>&lt;10</th>\n",
       "      <td>28</td>\n",
       "      <td>$2.98</td>\n",
       "      <td>$83.46</td>\n",
       "      <td>$4.39</td>\n",
       "    </tr>\n",
       "    <tr>\n",
       "      <th>10-14</th>\n",
       "      <td>35</td>\n",
       "      <td>$2.77</td>\n",
       "      <td>$96.95</td>\n",
       "      <td>$4.22</td>\n",
       "    </tr>\n",
       "    <tr>\n",
       "      <th>15-19</th>\n",
       "      <td>133</td>\n",
       "      <td>$2.91</td>\n",
       "      <td>$386.42</td>\n",
       "      <td>$3.86</td>\n",
       "    </tr>\n",
       "    <tr>\n",
       "      <th>20-24</th>\n",
       "      <td>336</td>\n",
       "      <td>$2.91</td>\n",
       "      <td>$978.77</td>\n",
       "      <td>$3.78</td>\n",
       "    </tr>\n",
       "    <tr>\n",
       "      <th>25-29</th>\n",
       "      <td>125</td>\n",
       "      <td>$2.96</td>\n",
       "      <td>$370.33</td>\n",
       "      <td>$4.26</td>\n",
       "    </tr>\n",
       "    <tr>\n",
       "      <th>30-34</th>\n",
       "      <td>64</td>\n",
       "      <td>$3.08</td>\n",
       "      <td>$197.25</td>\n",
       "      <td>$4.20</td>\n",
       "    </tr>\n",
       "    <tr>\n",
       "      <th>35-39</th>\n",
       "      <td>42</td>\n",
       "      <td>$2.84</td>\n",
       "      <td>$119.40</td>\n",
       "      <td>$4.42</td>\n",
       "    </tr>\n",
       "    <tr>\n",
       "      <th>40+</th>\n",
       "      <td>17</td>\n",
       "      <td>$3.16</td>\n",
       "      <td>$53.75</td>\n",
       "      <td>$4.89</td>\n",
       "    </tr>\n",
       "  </tbody>\n",
       "</table>\n",
       "</div>"
      ],
      "text/plain": [
       "       Purchase Count Average Purchase Price Total Purchase Value  \\\n",
       "                                                                    \n",
       "<10                28                  $2.98               $83.46   \n",
       "10-14              35                  $2.77               $96.95   \n",
       "15-19             133                  $2.91              $386.42   \n",
       "20-24             336                  $2.91              $978.77   \n",
       "25-29             125                  $2.96              $370.33   \n",
       "30-34              64                  $3.08              $197.25   \n",
       "35-39              42                  $2.84              $119.40   \n",
       "40+                17                  $3.16               $53.75   \n",
       "\n",
       "      Normalized Totals  \n",
       "                         \n",
       "<10               $4.39  \n",
       "10-14             $4.22  \n",
       "15-19             $3.86  \n",
       "20-24             $3.78  \n",
       "25-29             $4.26  \n",
       "30-34             $4.20  \n",
       "35-39             $4.42  \n",
       "40+               $4.89  "
      ]
     },
     "execution_count": 23,
     "metadata": {},
     "output_type": "execute_result"
    }
   ],
   "source": [
    "purchase_analysis_age_reorg"
   ]
  },
  {
   "cell_type": "code",
   "execution_count": 24,
   "metadata": {},
   "outputs": [],
   "source": [
    "topspenders = purchase_df.groupby(\"SN\")"
   ]
  },
  {
   "cell_type": "code",
   "execution_count": 25,
   "metadata": {},
   "outputs": [],
   "source": [
    "topspendertotal = topspenders.sum()\n",
    "topspendertotal[\"Average Purchase Price\"] = (topspenders.mean())[\"Price\"]\n",
    "topspendertotal[\"Purchase Count\"] = (topspenders.count())[\"Item ID\"]\n",
    "topspendertotal = topspendertotal.rename(columns={\"Price\": \"Total Purchase Value\"})"
   ]
  },
  {
   "cell_type": "code",
   "execution_count": 26,
   "metadata": {},
   "outputs": [],
   "source": [
    "topspenders_sorted = topspendertotal.sort_values(\"Total Purchase Value\", ascending = False)[[\"Purchase Count\",\"Average Purchase Price\",\"Total Purchase Value\"]]\n",
    "topspenders_sorted[\"Average Purchase Price\"] = topspenders_sorted[\"Average Purchase Price\"].map(\"${:,.2f}\".format)\n",
    "topspenders_sorted[\"Total Purchase Value\"] = topspenders_sorted[\"Total Purchase Value\"].map(\"${:,.2f}\".format)"
   ]
  },
  {
   "cell_type": "markdown",
   "metadata": {},
   "source": [
    "# Top Spenders"
   ]
  },
  {
   "cell_type": "code",
   "execution_count": 27,
   "metadata": {},
   "outputs": [
    {
     "data": {
      "text/html": [
       "<div>\n",
       "<style scoped>\n",
       "    .dataframe tbody tr th:only-of-type {\n",
       "        vertical-align: middle;\n",
       "    }\n",
       "\n",
       "    .dataframe tbody tr th {\n",
       "        vertical-align: top;\n",
       "    }\n",
       "\n",
       "    .dataframe thead th {\n",
       "        text-align: right;\n",
       "    }\n",
       "</style>\n",
       "<table border=\"1\" class=\"dataframe\">\n",
       "  <thead>\n",
       "    <tr style=\"text-align: right;\">\n",
       "      <th></th>\n",
       "      <th>Purchase Count</th>\n",
       "      <th>Average Purchase Price</th>\n",
       "      <th>Total Purchase Value</th>\n",
       "    </tr>\n",
       "    <tr>\n",
       "      <th>SN</th>\n",
       "      <th></th>\n",
       "      <th></th>\n",
       "      <th></th>\n",
       "    </tr>\n",
       "  </thead>\n",
       "  <tbody>\n",
       "    <tr>\n",
       "      <th>Undirrala66</th>\n",
       "      <td>5</td>\n",
       "      <td>$3.41</td>\n",
       "      <td>$17.06</td>\n",
       "    </tr>\n",
       "    <tr>\n",
       "      <th>Saedue76</th>\n",
       "      <td>4</td>\n",
       "      <td>$3.39</td>\n",
       "      <td>$13.56</td>\n",
       "    </tr>\n",
       "    <tr>\n",
       "      <th>Mindimnya67</th>\n",
       "      <td>4</td>\n",
       "      <td>$3.18</td>\n",
       "      <td>$12.74</td>\n",
       "    </tr>\n",
       "    <tr>\n",
       "      <th>Haellysu29</th>\n",
       "      <td>3</td>\n",
       "      <td>$4.24</td>\n",
       "      <td>$12.73</td>\n",
       "    </tr>\n",
       "    <tr>\n",
       "      <th>Eoda93</th>\n",
       "      <td>3</td>\n",
       "      <td>$3.86</td>\n",
       "      <td>$11.58</td>\n",
       "    </tr>\n",
       "  </tbody>\n",
       "</table>\n",
       "</div>"
      ],
      "text/plain": [
       "             Purchase Count Average Purchase Price Total Purchase Value\n",
       "SN                                                                     \n",
       "Undirrala66               5                  $3.41               $17.06\n",
       "Saedue76                  4                  $3.39               $13.56\n",
       "Mindimnya67               4                  $3.18               $12.74\n",
       "Haellysu29                3                  $4.24               $12.73\n",
       "Eoda93                    3                  $3.86               $11.58"
      ]
     },
     "execution_count": 27,
     "metadata": {},
     "output_type": "execute_result"
    }
   ],
   "source": [
    "topspenders_sorted.head()"
   ]
  },
  {
   "cell_type": "code",
   "execution_count": 28,
   "metadata": {},
   "outputs": [],
   "source": [
    "mostpopular = purchase_df.groupby([\"Item ID\",\"Item Name\"])"
   ]
  },
  {
   "cell_type": "code",
   "execution_count": 29,
   "metadata": {},
   "outputs": [],
   "source": [
    "purchase_count = mostpopular.count()\n",
    "purchase_count[\"Item Price\"] = (mostpopular.mean())[\"Price\"]\n",
    "purchase_count[\"Total Purchase Value\"] = (mostpopular.sum())[\"Price\"]\n",
    "purchase_count[\"Item Price\"] = purchase_count[\"Item Price\"].map(\"${:,.2f}\".format)"
   ]
  },
  {
   "cell_type": "code",
   "execution_count": 30,
   "metadata": {},
   "outputs": [],
   "source": [
    "purchase_count_popular = purchase_count[[\"SN\",\"Item Price\",\"Total Purchase Value\"]].sort_values(\"SN\",ascending = False).head(5)\n",
    "purchase_count_popular = purchase_count_popular.rename(columns={\"SN\": \"Purchase Count\"})\n",
    "purchase_count_popular[\"Total Purchase Value\"] = purchase_count_popular[\"Total Purchase Value\"].map(\"${:,.2f}\".format)"
   ]
  },
  {
   "cell_type": "markdown",
   "metadata": {},
   "source": [
    "# Most Popular Items"
   ]
  },
  {
   "cell_type": "code",
   "execution_count": 31,
   "metadata": {},
   "outputs": [
    {
     "data": {
      "text/html": [
       "<div>\n",
       "<style scoped>\n",
       "    .dataframe tbody tr th:only-of-type {\n",
       "        vertical-align: middle;\n",
       "    }\n",
       "\n",
       "    .dataframe tbody tr th {\n",
       "        vertical-align: top;\n",
       "    }\n",
       "\n",
       "    .dataframe thead th {\n",
       "        text-align: right;\n",
       "    }\n",
       "</style>\n",
       "<table border=\"1\" class=\"dataframe\">\n",
       "  <thead>\n",
       "    <tr style=\"text-align: right;\">\n",
       "      <th></th>\n",
       "      <th></th>\n",
       "      <th>Purchase Count</th>\n",
       "      <th>Item Price</th>\n",
       "      <th>Total Purchase Value</th>\n",
       "    </tr>\n",
       "    <tr>\n",
       "      <th>Item ID</th>\n",
       "      <th>Item Name</th>\n",
       "      <th></th>\n",
       "      <th></th>\n",
       "      <th></th>\n",
       "    </tr>\n",
       "  </thead>\n",
       "  <tbody>\n",
       "    <tr>\n",
       "      <th>39</th>\n",
       "      <th>Betrayal, Whisper of Grieving Widows</th>\n",
       "      <td>11</td>\n",
       "      <td>$2.35</td>\n",
       "      <td>$25.85</td>\n",
       "    </tr>\n",
       "    <tr>\n",
       "      <th>84</th>\n",
       "      <th>Arcane Gem</th>\n",
       "      <td>11</td>\n",
       "      <td>$2.23</td>\n",
       "      <td>$24.53</td>\n",
       "    </tr>\n",
       "    <tr>\n",
       "      <th>31</th>\n",
       "      <th>Trickster</th>\n",
       "      <td>9</td>\n",
       "      <td>$2.07</td>\n",
       "      <td>$18.63</td>\n",
       "    </tr>\n",
       "    <tr>\n",
       "      <th>175</th>\n",
       "      <th>Woeful Adamantite Claymore</th>\n",
       "      <td>9</td>\n",
       "      <td>$1.24</td>\n",
       "      <td>$11.16</td>\n",
       "    </tr>\n",
       "    <tr>\n",
       "      <th>13</th>\n",
       "      <th>Serenity</th>\n",
       "      <td>9</td>\n",
       "      <td>$1.49</td>\n",
       "      <td>$13.41</td>\n",
       "    </tr>\n",
       "  </tbody>\n",
       "</table>\n",
       "</div>"
      ],
      "text/plain": [
       "                                              Purchase Count Item Price  \\\n",
       "Item ID Item Name                                                         \n",
       "39      Betrayal, Whisper of Grieving Widows              11      $2.35   \n",
       "84      Arcane Gem                                        11      $2.23   \n",
       "31      Trickster                                          9      $2.07   \n",
       "175     Woeful Adamantite Claymore                         9      $1.24   \n",
       "13      Serenity                                           9      $1.49   \n",
       "\n",
       "                                             Total Purchase Value  \n",
       "Item ID Item Name                                                  \n",
       "39      Betrayal, Whisper of Grieving Widows               $25.85  \n",
       "84      Arcane Gem                                         $24.53  \n",
       "31      Trickster                                          $18.63  \n",
       "175     Woeful Adamantite Claymore                         $11.16  \n",
       "13      Serenity                                           $13.41  "
      ]
     },
     "execution_count": 31,
     "metadata": {},
     "output_type": "execute_result"
    }
   ],
   "source": [
    "purchase_count_popular"
   ]
  },
  {
   "cell_type": "code",
   "execution_count": 32,
   "metadata": {},
   "outputs": [],
   "source": [
    "purchase_count_profit = purchase_count[[\"SN\",\"Item Price\",\"Total Purchase Value\"]].sort_values(\"Total Purchase Value\",ascending = False).head(5)\n",
    "purchase_count_profit = purchase_count_profit.rename(columns={\"SN\": \"Purchase Count\"})\n",
    "purchase_count_profit[\"Total Purchase Value\"] = purchase_count_profit[\"Total Purchase Value\"].map(\"${:,.2f}\".format)"
   ]
  },
  {
   "cell_type": "markdown",
   "metadata": {},
   "source": [
    "# Most Profitable Items"
   ]
  },
  {
   "cell_type": "code",
   "execution_count": 33,
   "metadata": {},
   "outputs": [
    {
     "data": {
      "text/html": [
       "<div>\n",
       "<style scoped>\n",
       "    .dataframe tbody tr th:only-of-type {\n",
       "        vertical-align: middle;\n",
       "    }\n",
       "\n",
       "    .dataframe tbody tr th {\n",
       "        vertical-align: top;\n",
       "    }\n",
       "\n",
       "    .dataframe thead th {\n",
       "        text-align: right;\n",
       "    }\n",
       "</style>\n",
       "<table border=\"1\" class=\"dataframe\">\n",
       "  <thead>\n",
       "    <tr style=\"text-align: right;\">\n",
       "      <th></th>\n",
       "      <th></th>\n",
       "      <th>Purchase Count</th>\n",
       "      <th>Item Price</th>\n",
       "      <th>Total Purchase Value</th>\n",
       "    </tr>\n",
       "    <tr>\n",
       "      <th>Item ID</th>\n",
       "      <th>Item Name</th>\n",
       "      <th></th>\n",
       "      <th></th>\n",
       "      <th></th>\n",
       "    </tr>\n",
       "  </thead>\n",
       "  <tbody>\n",
       "    <tr>\n",
       "      <th>34</th>\n",
       "      <th>Retribution Axe</th>\n",
       "      <td>9</td>\n",
       "      <td>$4.14</td>\n",
       "      <td>$37.26</td>\n",
       "    </tr>\n",
       "    <tr>\n",
       "      <th>115</th>\n",
       "      <th>Spectral Diamond Doomblade</th>\n",
       "      <td>7</td>\n",
       "      <td>$4.25</td>\n",
       "      <td>$29.75</td>\n",
       "    </tr>\n",
       "    <tr>\n",
       "      <th>32</th>\n",
       "      <th>Orenmir</th>\n",
       "      <td>6</td>\n",
       "      <td>$4.95</td>\n",
       "      <td>$29.70</td>\n",
       "    </tr>\n",
       "    <tr>\n",
       "      <th>103</th>\n",
       "      <th>Singed Scalpel</th>\n",
       "      <td>6</td>\n",
       "      <td>$4.87</td>\n",
       "      <td>$29.22</td>\n",
       "    </tr>\n",
       "    <tr>\n",
       "      <th>107</th>\n",
       "      <th>Splitter, Foe Of Subtlety</th>\n",
       "      <td>8</td>\n",
       "      <td>$3.61</td>\n",
       "      <td>$28.88</td>\n",
       "    </tr>\n",
       "  </tbody>\n",
       "</table>\n",
       "</div>"
      ],
      "text/plain": [
       "                                    Purchase Count Item Price  \\\n",
       "Item ID Item Name                                               \n",
       "34      Retribution Axe                          9      $4.14   \n",
       "115     Spectral Diamond Doomblade               7      $4.25   \n",
       "32      Orenmir                                  6      $4.95   \n",
       "103     Singed Scalpel                           6      $4.87   \n",
       "107     Splitter, Foe Of Subtlety                8      $3.61   \n",
       "\n",
       "                                   Total Purchase Value  \n",
       "Item ID Item Name                                        \n",
       "34      Retribution Axe                          $37.26  \n",
       "115     Spectral Diamond Doomblade               $29.75  \n",
       "32      Orenmir                                  $29.70  \n",
       "103     Singed Scalpel                           $29.22  \n",
       "107     Splitter, Foe Of Subtlety                $28.88  "
      ]
     },
     "execution_count": 33,
     "metadata": {},
     "output_type": "execute_result"
    }
   ],
   "source": [
    "purchase_count_profit"
   ]
  },
  {
   "cell_type": "code",
   "execution_count": null,
   "metadata": {},
   "outputs": [],
   "source": []
  }
 ],
 "metadata": {
  "kernelspec": {
   "display_name": "Python [conda env:PythonData]",
   "language": "python",
   "name": "conda-env-PythonData-py"
  },
  "language_info": {
   "codemirror_mode": {
    "name": "ipython",
    "version": 3
   },
   "file_extension": ".py",
   "mimetype": "text/x-python",
   "name": "python",
   "nbconvert_exporter": "python",
   "pygments_lexer": "ipython3",
   "version": "3.6.4"
  }
 },
 "nbformat": 4,
 "nbformat_minor": 2
}
